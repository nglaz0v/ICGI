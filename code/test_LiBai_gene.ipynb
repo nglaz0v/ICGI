{
 "cells": [
  {
   "cell_type": "code",
   "execution_count": 1,
   "id": "996740e1-af6b-41b3-9472-08d5396d7d2d",
   "metadata": {
    "tags": []
   },
   "outputs": [],
   "source": [
    "import openai\n",
    "from openai import OpenAI"
   ]
  },
  {
   "cell_type": "code",
   "execution_count": 2,
   "id": "d31c08a0-9e9c-4805-9b5c-ef8d8b1b2ada",
   "metadata": {
    "tags": []
   },
   "outputs": [],
   "source": [
    "def get_completions(system_prompt, user_prompt, max_tokens_=32):\n",
    "\n",
    "    client = OpenAI(\n",
    "        api_key=\"sk-your_api_key************************************************\",\n",
    "        base_url=\"https://api.openai.com/v1\",\n",
    "        max_retries=3,\n",
    "        timeout=60,\n",
    "    )\n",
    "\n",
    "    chat_completion = client.chat.completions.create(\n",
    "        model=\"gpt-4o-mini-2024-07-18\",\n",
    "        messages=[\n",
    "            {\"role\": \"system\", \"content\": system_prompt},\n",
    "            {\"role\": \"user\", \"content\": user_prompt},\n",
    "        ],\n",
    "        n=1,\n",
    "        temperature=0,\n",
    "        seed=42,\n",
    "        max_tokens=max_tokens_,\n",
    "        logprobs=False,\n",
    "        presence_penalty=0,\n",
    "        frequency_penalty=0,\n",
    "    )\n",
    "    response = chat_completion.choices[0].message.content.strip()\n",
    "\n",
    "    return chat_completion, response"
   ]
  },
  {
   "cell_type": "code",
   "execution_count": 3,
   "id": "4953d536-1870-4d5c-a04b-d2c2d60542f1",
   "metadata": {
    "tags": []
   },
   "outputs": [
    {
     "name": "stdout",
     "output_type": "stream",
     "text": [
      "OpenAI Python API Library Version: 1.58.1\n"
     ]
    }
   ],
   "source": [
    "print(f\"OpenAI Python API Library Version: {openai.__version__}\")"
   ]
  },
  {
   "cell_type": "code",
   "execution_count": 4,
   "id": "b4e6fa6c-0929-4695-8ae6-761953cd0096",
   "metadata": {
    "tags": []
   },
   "outputs": [
    {
     "name": "stdout",
     "output_type": "stream",
     "text": [
      "As of my last knowledge update in October 2023, there is ongoing research into the role of various genes and pathways in lung adenocarcinoma, including the LiBai gene. However, the exact causal relationship between the LiBai gene and lung adenocarcinoma is not universally established or confirmed.\n",
      "\n",
      "When evaluating the impact of specific genes on cancer, researchers typically look for evidence from a variety of studies, including genetic, molecular, and clinical research. Some genes may be associated with cancer risk or progression, but establishing a clear causal relationship usually requires extensive validation through multiple studies, including functional studies and potential clinical trials.\n",
      "\n",
      "If you are looking for the most up-to-date and specific information, I recommend consulting recent scientific literature or databases that track genetic associations with cancer.\n"
     ]
    }
   ],
   "source": [
    "system_ = \"You are a helpful assistant.\"\n",
    "\n",
    "prompt = \"How sure are you about the causal relationship between the LiBai gene and lung adenocarcinoma?\"\n",
    "completion_object, result = get_completions(system_, prompt, max_tokens_=256)\n",
    "print(result)"
   ]
  },
  {
   "cell_type": "code",
   "execution_count": 5,
   "id": "cb11719c-4576-4703-a9fb-a30de0c16c40",
   "metadata": {
    "tags": []
   },
   "outputs": [
    {
     "data": {
      "text/plain": [
       "ChatCompletion(id='chatcmpl-An2JuHplEECxdavjqINgrMZs3NZjY', choices=[Choice(finish_reason='stop', index=0, logprobs=None, message=ChatCompletionMessage(content='As of my last knowledge update in October 2023, there is ongoing research into the role of various genes and pathways in lung adenocarcinoma, including the LiBai gene. However, the exact causal relationship between the LiBai gene and lung adenocarcinoma is not universally established or confirmed.\\n\\nWhen evaluating the impact of specific genes on cancer, researchers typically look for evidence from a variety of studies, including genetic, molecular, and clinical research. Some genes may be associated with cancer risk or progression, but establishing a clear causal relationship usually requires extensive validation through multiple studies, including functional studies and potential clinical trials.\\n\\nIf you are looking for the most up-to-date and specific information, I recommend consulting recent scientific literature or databases that track genetic associations with cancer.', refusal=None, role='assistant', audio=None, function_call=None, tool_calls=None))], created=1736250354, model='gpt-4o-mini-2024-07-18', object='chat.completion', service_tier=None, system_fingerprint='fp_0aa8d3e20b', usage=CompletionUsage(completion_tokens=156, prompt_tokens=38, total_tokens=194, completion_tokens_details=CompletionTokensDetails(accepted_prediction_tokens=0, audio_tokens=0, reasoning_tokens=0, rejected_prediction_tokens=0), prompt_tokens_details=PromptTokensDetails(audio_tokens=0, cached_tokens=0)))"
      ]
     },
     "execution_count": 5,
     "metadata": {},
     "output_type": "execute_result"
    }
   ],
   "source": [
    "completion_object"
   ]
  }
 ],
 "metadata": {
  "kernelspec": {
   "display_name": "OpenAI",
   "language": "python",
   "name": "python3"
  },
  "language_info": {
   "codemirror_mode": {
    "name": "ipython",
    "version": 3
   },
   "file_extension": ".py",
   "mimetype": "text/x-python",
   "name": "python",
   "nbconvert_exporter": "python",
   "pygments_lexer": "ipython3",
   "version": "3.9.18"
  }
 },
 "nbformat": 4,
 "nbformat_minor": 5
}
