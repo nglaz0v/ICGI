{
 "cells": [
  {
   "cell_type": "code",
   "execution_count": 1,
   "id": "996740e1-af6b-41b3-9472-08d5396d7d2d",
   "metadata": {
    "tags": []
   },
   "outputs": [],
   "source": [
    "import openai\n",
    "from openai import OpenAI"
   ]
  },
  {
   "cell_type": "code",
   "execution_count": 2,
   "id": "d31c08a0-9e9c-4805-9b5c-ef8d8b1b2ada",
   "metadata": {
    "tags": []
   },
   "outputs": [],
   "source": [
    "def get_completions(system_prompt, user_prompt, max_tokens_=32):\n",
    "\n",
    "    client = OpenAI(\n",
    "        api_key=\"sk-your_api_key************************************************\",\n",
    "        base_url=\"https://api.openai.com/v1\",\n",
    "        max_retries=3,\n",
    "        timeout=60,\n",
    "    )\n",
    "\n",
    "    chat_completion = client.chat.completions.create(\n",
    "        model=\"gpt-4o-mini-2024-07-18\",\n",
    "        messages=[\n",
    "            {\"role\": \"system\", \"content\": system_prompt},\n",
    "            {\"role\": \"user\", \"content\": user_prompt},\n",
    "        ],\n",
    "        n=1,\n",
    "        temperature=0,\n",
    "        seed=42,\n",
    "        max_tokens=max_tokens_,\n",
    "        logprobs=False,\n",
    "        presence_penalty=0,\n",
    "        frequency_penalty=0,\n",
    "    )\n",
    "    response = chat_completion.choices[0].message.content.strip()\n",
    "\n",
    "    return response"
   ]
  },
  {
   "cell_type": "code",
   "execution_count": 3,
   "id": "4953d536-1870-4d5c-a04b-d2c2d60542f1",
   "metadata": {
    "tags": []
   },
   "outputs": [
    {
     "name": "stdout",
     "output_type": "stream",
     "text": [
      "OpenAI Python API Library Version: 1.58.1\n"
     ]
    }
   ],
   "source": [
    "print(f\"OpenAI Python API Library Version: {openai.__version__}\")"
   ]
  },
  {
   "cell_type": "code",
   "execution_count": 4,
   "id": "b4e6fa6c-0929-4695-8ae6-761953cd0096",
   "metadata": {
    "tags": []
   },
   "outputs": [
    {
     "name": "stdout",
     "output_type": "stream",
     "text": [
      "9.11 is greater than 9.9.\n"
     ]
    }
   ],
   "source": [
    "system_ = \"You are an expert at world knowledge.\"\n",
    "\n",
    "prompt1 = \"9.11 or 9.9, which is greater?\"\n",
    "result1 = get_completions(system_, prompt1)\n",
    "print(result1)"
   ]
  },
  {
   "cell_type": "code",
   "execution_count": 5,
   "id": "1cc8703d-b53b-4c8e-8a43-4dde809dbef1",
   "metadata": {
    "tags": []
   },
   "outputs": [
    {
     "name": "stdout",
     "output_type": "stream",
     "text": [
      "9.9 is greater than 9.11. In a numerical comparison, 9.9 is equivalent to 9.90, which is larger than 9.11.\n"
     ]
    }
   ],
   "source": [
    "system_ = \"You are an expert in mathematical analysis and highly skilled in numerical comparisons.\"\n",
    "\n",
    "prompt2 = \"9.11 or 9.9, which is greater?\"\n",
    "result2 = get_completions(system_, prompt2, max_tokens_=64)\n",
    "print(result2)"
   ]
  },
  {
   "cell_type": "code",
   "execution_count": 6,
   "id": "e428316a-3510-4f92-a3a5-26a73a5bc6df",
   "metadata": {
    "tags": []
   },
   "outputs": [
    {
     "name": "stdout",
     "output_type": "stream",
     "text": [
      "To determine which is greater between 9.11 and 9.9, we can compare the two numbers step by step.\n",
      "\n",
      "1. **Compare the whole numbers**: Both numbers have the same whole number part, which is 9.\n",
      "\n",
      "2. **Look at the first decimal place**: \n",
      "   - In 9.11, the first decimal place is 1.\n",
      "   - In 9.9, the first decimal place is 9.\n",
      "   - Since 9 is greater than 1, we can conclude that 9.9 is greater than 9.11.\n",
      "\n",
      "3. **Final comparison**: \n",
      "   - Since the comparison of the whole numbers is equal, the larger number is determined by the decimal parts. \n",
      "   - Therefore, 9.9 is indeed greater than 9.11.\n",
      "\n",
      "In conclusion, 9.9 is greater than 9.11.\n"
     ]
    }
   ],
   "source": [
    "system_ = \"You are an expert at world knowledge.\"\n",
    "\n",
    "prompt3 = \"9.11 or 9.9, which is greater?\\nLet's think step by step.\"\n",
    "result3 = get_completions(system_, prompt3, max_tokens_=256)\n",
    "print(result3)"
   ]
  }
 ],
 "metadata": {
  "kernelspec": {
   "display_name": "OpenAI",
   "language": "python",
   "name": "python3"
  },
  "language_info": {
   "codemirror_mode": {
    "name": "ipython",
    "version": 3
   },
   "file_extension": ".py",
   "mimetype": "text/x-python",
   "name": "python",
   "nbconvert_exporter": "python",
   "pygments_lexer": "ipython3",
   "version": "3.9.18"
  }
 },
 "nbformat": 4,
 "nbformat_minor": 5
}
